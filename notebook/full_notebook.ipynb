{
 "cells": [
  {
   "cell_type": "markdown",
   "id": "34dd9810",
   "metadata": {
    "toc": true
   },
   "source": [
    "<h1>Table of Contents<span class=\"tocSkip\"></span></h1>\n",
    "<div class=\"toc\"><ul class=\"toc-item\"><li><span><a href=\"#Load-Data\" data-toc-modified-id=\"Load-Data-1\">Load Data</a></span><ul class=\"toc-item\"><li><span><a href=\"#Train-Test-Split\" data-toc-modified-id=\"Train-Test-Split-1.1\">Train-Test Split</a></span></li></ul></li><li><span><a href=\"#Clean-Data\" data-toc-modified-id=\"Clean-Data-2\">Clean Data</a></span></li><li><span><a href=\"#Explore\" data-toc-modified-id=\"Explore-3\">Explore</a></span></li><li><span><a href=\"#Simple-Model\" data-toc-modified-id=\"Simple-Model-4\">Simple Model</a></span><ul class=\"toc-item\"><li><span><a href=\"#Validation-(w/-Cross-Validation)\" data-toc-modified-id=\"Validation-(w/-Cross-Validation)-4.1\">Validation (w/ Cross-Validation)</a></span></li></ul></li><li><span><a href=\"#Evaluate-with-Test\" data-toc-modified-id=\"Evaluate-with-Test-5\">Evaluate with Test</a></span></li></ul></div>"
   ]
  },
  {
   "cell_type": "code",
   "execution_count": 1,
   "id": "f9952622",
   "metadata": {},
   "outputs": [],
   "source": [
    "from typing import Optional\n",
    "import requests\n",
    "from zipfile import ZipFile\n",
    "from io import BytesIO\n",
    "\n",
    "import pandas as pd\n",
    "import numpy as np\n",
    "from sklearn.model_selection import train_test_split"
   ]
  },
  {
   "cell_type": "markdown",
   "id": "d688a125",
   "metadata": {},
   "source": [
    "# Load Data"
   ]
  },
  {
   "cell_type": "code",
   "execution_count": 2,
   "id": "a65ff5c5",
   "metadata": {},
   "outputs": [],
   "source": [
    "def load_data(\n",
    "    url: str,\n",
    "    filename: str,\n",
    "    zip_filename: Optional[str] = None,\n",
    "    **kwargs,\n",
    " ) -> pd.DataFrame:\n",
    "    '''Download zip file with CSV from URL and returns a DataFrame.\n",
    "    '''\n",
    "    if zip_filename is None:\n",
    "        zip_filename = url.split('/')[-1]\n",
    "\n",
    "    r = requests.get(url)\n",
    "    files = ZipFile(BytesIO(r.content))\n",
    "    # No header\n",
    "    return pd.read_csv(files.open(filename), **kwargs)\n",
    "\n",
    "def load_spam_data() -> pd.DataFrame:\n",
    "    '''Returns DataFrame for SMS spam detection (https://archive.ics.uci.edu/ml/datasets/SMS+Spam+Collection)\n",
    "    '''\n",
    "    url = 'https://archive.ics.uci.edu/ml/machine-learning-databases/00228/smsspamcollection.zip'\n",
    "    filename = 'SMSSpamCollection'\n",
    "    df = load_data(url, filename, sep='\\t', names=['label', 'text'])\n",
    "    return df"
   ]
  },
  {
   "cell_type": "code",
   "execution_count": 3,
   "id": "867ad74d",
   "metadata": {},
   "outputs": [
    {
     "data": {
      "text/html": [
       "<div>\n",
       "<style scoped>\n",
       "    .dataframe tbody tr th:only-of-type {\n",
       "        vertical-align: middle;\n",
       "    }\n",
       "\n",
       "    .dataframe tbody tr th {\n",
       "        vertical-align: top;\n",
       "    }\n",
       "\n",
       "    .dataframe thead th {\n",
       "        text-align: right;\n",
       "    }\n",
       "</style>\n",
       "<table border=\"1\" class=\"dataframe\">\n",
       "  <thead>\n",
       "    <tr style=\"text-align: right;\">\n",
       "      <th></th>\n",
       "      <th>label</th>\n",
       "      <th>text</th>\n",
       "    </tr>\n",
       "  </thead>\n",
       "  <tbody>\n",
       "    <tr>\n",
       "      <th>0</th>\n",
       "      <td>ham</td>\n",
       "      <td>Go until jurong point, crazy.. Available only ...</td>\n",
       "    </tr>\n",
       "    <tr>\n",
       "      <th>1</th>\n",
       "      <td>ham</td>\n",
       "      <td>Ok lar... Joking wif u oni...</td>\n",
       "    </tr>\n",
       "    <tr>\n",
       "      <th>2</th>\n",
       "      <td>spam</td>\n",
       "      <td>Free entry in 2 a wkly comp to win FA Cup fina...</td>\n",
       "    </tr>\n",
       "    <tr>\n",
       "      <th>3</th>\n",
       "      <td>ham</td>\n",
       "      <td>U dun say so early hor... U c already then say...</td>\n",
       "    </tr>\n",
       "    <tr>\n",
       "      <th>4</th>\n",
       "      <td>ham</td>\n",
       "      <td>Nah I don't think he goes to usf, he lives aro...</td>\n",
       "    </tr>\n",
       "  </tbody>\n",
       "</table>\n",
       "</div>"
      ],
      "text/plain": [
       "  label                                               text\n",
       "0   ham  Go until jurong point, crazy.. Available only ...\n",
       "1   ham                      Ok lar... Joking wif u oni...\n",
       "2  spam  Free entry in 2 a wkly comp to win FA Cup fina...\n",
       "3   ham  U dun say so early hor... U c already then say...\n",
       "4   ham  Nah I don't think he goes to usf, he lives aro..."
      ]
     },
     "metadata": {},
     "output_type": "display_data"
    },
    {
     "data": {
      "text/plain": [
       "ham     4825\n",
       "spam     747\n",
       "Name: label, dtype: int64"
      ]
     },
     "metadata": {},
     "output_type": "display_data"
    }
   ],
   "source": [
    "df = load_spam_data()\n",
    "display(df.head())\n",
    "display(df['label'].value_counts())"
   ]
  },
  {
   "cell_type": "markdown",
   "id": "0496241c",
   "metadata": {},
   "source": [
    "## Train-Test Split"
   ]
  },
  {
   "cell_type": "code",
   "execution_count": 4,
   "id": "856dae91",
   "metadata": {},
   "outputs": [],
   "source": [
    "def get_train_test_data(X, y) -> tuple:\n",
    "    X_train, X_test, y_train, y_test = train_test_split(\n",
    "        X,\n",
    "        y,\n",
    "        test_size=0.2,\n",
    "        random_state=27,\n",
    "    )\n",
    "    return X_train, X_test, y_train, y_test"
   ]
  },
  {
   "cell_type": "code",
   "execution_count": 5,
   "id": "8fa5974b",
   "metadata": {},
   "outputs": [
    {
     "name": "stdout",
     "output_type": "stream",
     "text": [
      "Train (n=4,457):\n",
      "ham\t86.90%\n",
      "spam\t13.10%\n",
      "\n",
      "Test (n=1,115):\n",
      "ham\t85.38%\n",
      "spam\t14.62%\n"
     ]
    }
   ],
   "source": [
    "X_train, X_test, y_train, y_test = get_train_test_data(\n",
    "                                        X=df['text'],\n",
    "                                        y=df['label'],\n",
    ")\n",
    "\n",
    "\n",
    "# Check that this looks good (train & test should look \"similar\")\n",
    "print(f'Train (n={y_train.shape[0]:,}):')\n",
    "for label, count in zip(*np.unique(y_train, return_counts=True)):\n",
    "    print(f'{label}\\t{count/y_train.shape[0]:.2%}') # Normalize Counts\n",
    "\n",
    "print()\n",
    "print(f'Test (n={y_test.shape[0]:,}):')\n",
    "for label, count in zip(*np.unique(y_test, return_counts=True)):\n",
    "    print(f'{label}\\t{count/y_test.shape[0]:.2%}') # Normalize Counts"
   ]
  },
  {
   "cell_type": "markdown",
   "id": "5d1d5d41",
   "metadata": {},
   "source": [
    "# Clean Data"
   ]
  },
  {
   "cell_type": "markdown",
   "id": "4b7d8c3a",
   "metadata": {},
   "source": [
    "> We'll \"skip\" this and just say it's clean enough but something #TODO"
   ]
  },
  {
   "cell_type": "code",
   "execution_count": 6,
   "id": "5c878a23",
   "metadata": {},
   "outputs": [],
   "source": [
    "def get_clean_data(data):\n",
    "    '''Dummy clean data (pass data through)\n",
    "    '''\n",
    "    # TODO: Actually clean the data with some process\n",
    "    return data"
   ]
  },
  {
   "cell_type": "markdown",
   "id": "f4e2a792",
   "metadata": {},
   "source": [
    "# Explore"
   ]
  },
  {
   "cell_type": "markdown",
   "id": "9f547380",
   "metadata": {},
   "source": [
    "# Simple Model"
   ]
  },
  {
   "cell_type": "markdown",
   "id": "cef9ba8d",
   "metadata": {},
   "source": [
    "## Validation (w/ Cross-Validation)"
   ]
  },
  {
   "cell_type": "markdown",
   "id": "70c05762",
   "metadata": {},
   "source": [
    "# Evaluate with Test"
   ]
  }
 ],
 "metadata": {
  "kernelspec": {
   "display_name": "Python 3 (ipykernel)",
   "language": "python",
   "name": "python3"
  },
  "language_info": {
   "codemirror_mode": {
    "name": "ipython",
    "version": 3
   },
   "file_extension": ".py",
   "mimetype": "text/x-python",
   "name": "python",
   "nbconvert_exporter": "python",
   "pygments_lexer": "ipython3",
   "version": "3.9.12"
  },
  "toc": {
   "base_numbering": 1,
   "nav_menu": {},
   "number_sections": false,
   "sideBar": true,
   "skip_h1_title": false,
   "title_cell": "Table of Contents",
   "title_sidebar": "Contents",
   "toc_cell": true,
   "toc_position": {},
   "toc_section_display": true,
   "toc_window_display": false
  }
 },
 "nbformat": 4,
 "nbformat_minor": 5
}

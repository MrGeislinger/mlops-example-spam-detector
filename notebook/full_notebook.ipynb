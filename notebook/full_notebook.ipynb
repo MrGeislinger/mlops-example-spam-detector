{
 "cells": [
  {
   "cell_type": "markdown",
   "id": "34dd9810",
   "metadata": {
    "toc": true
   },
   "source": [
    "<h1>Table of Contents<span class=\"tocSkip\"></span></h1>\n",
    "<div class=\"toc\"><ul class=\"toc-item\"><li><span><a href=\"#Load-Data\" data-toc-modified-id=\"Load-Data-1\">Load Data</a></span><ul class=\"toc-item\"><li><span><a href=\"#Train-Test-Split\" data-toc-modified-id=\"Train-Test-Split-1.1\">Train-Test Split</a></span></li></ul></li><li><span><a href=\"#Clean-Data\" data-toc-modified-id=\"Clean-Data-2\">Clean Data</a></span></li><li><span><a href=\"#Explore\" data-toc-modified-id=\"Explore-3\">Explore</a></span></li><li><span><a href=\"#Simple-Model\" data-toc-modified-id=\"Simple-Model-4\">Simple Model</a></span><ul class=\"toc-item\"><li><span><a href=\"#Validation-(w/-Cross-Validation)\" data-toc-modified-id=\"Validation-(w/-Cross-Validation)-4.1\">Validation (w/ Cross-Validation)</a></span></li></ul></li><li><span><a href=\"#Evaluate-with-Test\" data-toc-modified-id=\"Evaluate-with-Test-5\">Evaluate with Test</a></span></li></ul></div>"
   ]
  },
  {
   "cell_type": "markdown",
   "id": "d688a125",
   "metadata": {},
   "source": [
    "# Load Data"
   ]
  },
  {
   "cell_type": "markdown",
   "id": "0496241c",
   "metadata": {},
   "source": [
    "## Train-Test Split"
   ]
  },
  {
   "cell_type": "markdown",
   "id": "5d1d5d41",
   "metadata": {},
   "source": [
    "# Clean Data"
   ]
  },
  {
   "cell_type": "markdown",
   "id": "f4e2a792",
   "metadata": {},
   "source": [
    "# Explore"
   ]
  },
  {
   "cell_type": "markdown",
   "id": "9f547380",
   "metadata": {},
   "source": [
    "# Simple Model"
   ]
  },
  {
   "cell_type": "markdown",
   "id": "cef9ba8d",
   "metadata": {},
   "source": [
    "## Validation (w/ Cross-Validation)"
   ]
  },
  {
   "cell_type": "markdown",
   "id": "70c05762",
   "metadata": {},
   "source": [
    "# Evaluate with Test"
   ]
  }
 ],
 "metadata": {
  "kernelspec": {
   "display_name": "Python 3 (ipykernel)",
   "language": "python",
   "name": "python3"
  },
  "language_info": {
   "codemirror_mode": {
    "name": "ipython",
    "version": 3
   },
   "file_extension": ".py",
   "mimetype": "text/x-python",
   "name": "python",
   "nbconvert_exporter": "python",
   "pygments_lexer": "ipython3",
   "version": "3.9.12"
  },
  "toc": {
   "base_numbering": 1,
   "nav_menu": {},
   "number_sections": false,
   "sideBar": true,
   "skip_h1_title": false,
   "title_cell": "Table of Contents",
   "title_sidebar": "Contents",
   "toc_cell": true,
   "toc_position": {},
   "toc_section_display": true,
   "toc_window_display": false
  }
 },
 "nbformat": 4,
 "nbformat_minor": 5
}

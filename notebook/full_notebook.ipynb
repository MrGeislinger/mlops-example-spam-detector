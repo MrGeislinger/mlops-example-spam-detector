{
 "cells": [
  {
   "cell_type": "markdown",
   "id": "34dd9810",
   "metadata": {
    "toc": true
   },
   "source": [
    "<h1>Table of Contents<span class=\"tocSkip\"></span></h1>\n",
    "<div class=\"toc\"><ul class=\"toc-item\"><li><span><a href=\"#Load-Data\" data-toc-modified-id=\"Load-Data-1\">Load Data</a></span><ul class=\"toc-item\"><li><span><a href=\"#Train-Test-Split\" data-toc-modified-id=\"Train-Test-Split-1.1\">Train-Test Split</a></span></li></ul></li><li><span><a href=\"#Clean-Data\" data-toc-modified-id=\"Clean-Data-2\">Clean Data</a></span></li><li><span><a href=\"#Explore\" data-toc-modified-id=\"Explore-3\">Explore</a></span></li><li><span><a href=\"#Simple-Model\" data-toc-modified-id=\"Simple-Model-4\">Simple Model</a></span><ul class=\"toc-item\"><li><span><a href=\"#Validation-(w/-Cross-Validation)\" data-toc-modified-id=\"Validation-(w/-Cross-Validation)-4.1\">Validation (w/ Cross-Validation)</a></span></li></ul></li><li><span><a href=\"#Evaluate-with-Test\" data-toc-modified-id=\"Evaluate-with-Test-5\">Evaluate with Test</a></span></li></ul></div>"
   ]
  },
  {
   "cell_type": "code",
   "execution_count": 1,
   "id": "f9952622",
   "metadata": {},
   "outputs": [],
   "source": [
    "from typing import Optional\n",
    "import requests\n",
    "from zipfile import ZipFile\n",
    "from io import BytesIO\n",
    "\n",
    "import pandas as pd\n",
    "import numpy as np\n",
    "\n",
    "from sklearn.model_selection import train_test_split\n",
    "from sklearn.base import BaseEstimator, ClassifierMixin\n",
    "from sklearn.utils.validation import check_is_fitted\n",
    "from sklearn.metrics import precision_score, recall_score, accuracy_score"
   ]
  },
  {
   "cell_type": "markdown",
   "id": "d688a125",
   "metadata": {},
   "source": [
    "# Load Data"
   ]
  },
  {
   "cell_type": "code",
   "execution_count": 2,
   "id": "a65ff5c5",
   "metadata": {},
   "outputs": [],
   "source": [
    "def load_data(\n",
    "    url: str,\n",
    "    filename: str,\n",
    "    zip_filename: Optional[str] = None,\n",
    "    **kwargs,\n",
    " ) -> pd.DataFrame:\n",
    "    '''Download zip file with CSV from URL and returns a DataFrame.\n",
    "    '''\n",
    "    if zip_filename is None:\n",
    "        zip_filename = url.split('/')[-1]\n",
    "\n",
    "    r = requests.get(url)\n",
    "    files = ZipFile(BytesIO(r.content))\n",
    "    # No header\n",
    "    return pd.read_csv(files.open(filename), **kwargs)\n",
    "\n",
    "def load_spam_data() -> pd.DataFrame:\n",
    "    '''Returns DataFrame for SMS spam detection (https://archive.ics.uci.edu/ml/datasets/SMS+Spam+Collection)\n",
    "    '''\n",
    "    url = 'https://archive.ics.uci.edu/ml/machine-learning-databases/00228/smsspamcollection.zip'\n",
    "    filename = 'SMSSpamCollection'\n",
    "    df = load_data(url, filename, sep='\\t', names=['label', 'text'])\n",
    "    return df"
   ]
  },
  {
   "cell_type": "code",
   "execution_count": 3,
   "id": "867ad74d",
   "metadata": {},
   "outputs": [
    {
     "data": {
      "text/html": [
       "<div>\n",
       "<style scoped>\n",
       "    .dataframe tbody tr th:only-of-type {\n",
       "        vertical-align: middle;\n",
       "    }\n",
       "\n",
       "    .dataframe tbody tr th {\n",
       "        vertical-align: top;\n",
       "    }\n",
       "\n",
       "    .dataframe thead th {\n",
       "        text-align: right;\n",
       "    }\n",
       "</style>\n",
       "<table border=\"1\" class=\"dataframe\">\n",
       "  <thead>\n",
       "    <tr style=\"text-align: right;\">\n",
       "      <th></th>\n",
       "      <th>label</th>\n",
       "      <th>text</th>\n",
       "    </tr>\n",
       "  </thead>\n",
       "  <tbody>\n",
       "    <tr>\n",
       "      <th>0</th>\n",
       "      <td>ham</td>\n",
       "      <td>Go until jurong point, crazy.. Available only ...</td>\n",
       "    </tr>\n",
       "    <tr>\n",
       "      <th>1</th>\n",
       "      <td>ham</td>\n",
       "      <td>Ok lar... Joking wif u oni...</td>\n",
       "    </tr>\n",
       "    <tr>\n",
       "      <th>2</th>\n",
       "      <td>spam</td>\n",
       "      <td>Free entry in 2 a wkly comp to win FA Cup fina...</td>\n",
       "    </tr>\n",
       "    <tr>\n",
       "      <th>3</th>\n",
       "      <td>ham</td>\n",
       "      <td>U dun say so early hor... U c already then say...</td>\n",
       "    </tr>\n",
       "    <tr>\n",
       "      <th>4</th>\n",
       "      <td>ham</td>\n",
       "      <td>Nah I don't think he goes to usf, he lives aro...</td>\n",
       "    </tr>\n",
       "  </tbody>\n",
       "</table>\n",
       "</div>"
      ],
      "text/plain": [
       "  label                                               text\n",
       "0   ham  Go until jurong point, crazy.. Available only ...\n",
       "1   ham                      Ok lar... Joking wif u oni...\n",
       "2  spam  Free entry in 2 a wkly comp to win FA Cup fina...\n",
       "3   ham  U dun say so early hor... U c already then say...\n",
       "4   ham  Nah I don't think he goes to usf, he lives aro..."
      ]
     },
     "metadata": {},
     "output_type": "display_data"
    },
    {
     "data": {
      "text/plain": [
       "ham     4825\n",
       "spam     747\n",
       "Name: label, dtype: int64"
      ]
     },
     "metadata": {},
     "output_type": "display_data"
    }
   ],
   "source": [
    "df = load_spam_data()\n",
    "display(df.head())\n",
    "display(df['label'].value_counts())"
   ]
  },
  {
   "cell_type": "markdown",
   "id": "0496241c",
   "metadata": {},
   "source": [
    "## Train-Test Split"
   ]
  },
  {
   "cell_type": "code",
   "execution_count": 4,
   "id": "856dae91",
   "metadata": {},
   "outputs": [],
   "source": [
    "def get_train_test_data(X, y) -> tuple:\n",
    "    X_train, X_test, y_train, y_test = train_test_split(\n",
    "        X,\n",
    "        y,\n",
    "        test_size=0.2,\n",
    "        random_state=27,\n",
    "    )\n",
    "    return X_train, X_test, y_train, y_test"
   ]
  },
  {
   "cell_type": "code",
   "execution_count": 5,
   "id": "8fa5974b",
   "metadata": {},
   "outputs": [
    {
     "name": "stdout",
     "output_type": "stream",
     "text": [
      "Train (n=4,457):\n",
      "ham\t86.90%\n",
      "spam\t13.10%\n",
      "\n",
      "Test (n=1,115):\n",
      "ham\t85.38%\n",
      "spam\t14.62%\n"
     ]
    }
   ],
   "source": [
    "X_train, X_test, y_train, y_test = get_train_test_data(\n",
    "                                        X=df['text'],\n",
    "                                        y=df['label'],\n",
    ")\n",
    "\n",
    "\n",
    "# Check that this looks good (train & test should look \"similar\")\n",
    "print(f'Train (n={y_train.shape[0]:,}):')\n",
    "for label, count in zip(*np.unique(y_train, return_counts=True)):\n",
    "    print(f'{label}\\t{count/y_train.shape[0]:.2%}') # Normalize Counts\n",
    "\n",
    "print()\n",
    "print(f'Test (n={y_test.shape[0]:,}):')\n",
    "for label, count in zip(*np.unique(y_test, return_counts=True)):\n",
    "    print(f'{label}\\t{count/y_test.shape[0]:.2%}') # Normalize Counts"
   ]
  },
  {
   "cell_type": "markdown",
   "id": "5d1d5d41",
   "metadata": {},
   "source": [
    "# Clean Data"
   ]
  },
  {
   "cell_type": "markdown",
   "id": "4b7d8c3a",
   "metadata": {},
   "source": [
    "> We'll \"skip\" this and just say it's clean enough but something #TODO"
   ]
  },
  {
   "cell_type": "code",
   "execution_count": 6,
   "id": "5c878a23",
   "metadata": {},
   "outputs": [],
   "source": [
    "def get_clean_data(data: pd.Series) -> np.ndarray:\n",
    "    '''Lower text data\n",
    "    '''\n",
    "    # TODO: Actually clean the data with some process\n",
    "    return data.str.lower().values # Turn it into a numpy array\n",
    "\n",
    "def get_clean_labels(\n",
    "    y: pd.Series,\n",
    "    ham: Optional[str] ='ham',\n",
    "    spam: Optional[str] ='spam',\n",
    ") -> np.ndarray:\n",
    "    '''Convert strings of 'ham' and 'spam' to 0 & 1 (respectively)\n",
    "    '''\n",
    "    assert (ham is not None) or (spam is not None), 'Define either ham or spam'\n",
    "    \n",
    "    if ham:\n",
    "        y_clean = np.fromiter(\n",
    "            iter=(0 if y_ == ham else 1 for y_ in y), \n",
    "            dtype=int,\n",
    "        )\n",
    "    elif spam:\n",
    "        y_clean = np.fromiter(\n",
    "            iter=(1 if y_ == spam else 0 for y_ in y), \n",
    "            dtype=int,\n",
    "        )\n",
    "    return y_clean"
   ]
  },
  {
   "cell_type": "code",
   "execution_count": 7,
   "id": "73cf42f9",
   "metadata": {},
   "outputs": [],
   "source": [
    "X_train_clean = get_clean_data(X_train)\n",
    "X_test_clean = get_clean_data(X_test)"
   ]
  },
  {
   "cell_type": "code",
   "execution_count": 8,
   "id": "fd16c750",
   "metadata": {},
   "outputs": [],
   "source": [
    "# Change ham → 0 & spam → 1\n",
    "y_train = get_clean_labels(y_train, ham='ham')\n",
    "y_test = get_clean_labels(y_test, ham='ham')"
   ]
  },
  {
   "cell_type": "markdown",
   "id": "f4e2a792",
   "metadata": {},
   "source": [
    "# Explore"
   ]
  },
  {
   "cell_type": "markdown",
   "id": "e14e3f97",
   "metadata": {},
   "source": [
    "> We'll also \"skip\" the exploring since we're focusing on the model building right now.\n",
    "> Just another thing #TODO"
   ]
  },
  {
   "cell_type": "markdown",
   "id": "9f547380",
   "metadata": {},
   "source": [
    "# Simple Model"
   ]
  },
  {
   "cell_type": "markdown",
   "id": "486428aa",
   "metadata": {},
   "source": [
    "A _very simple model_ is checking if \"spammy\" words are being used and mark it as spam\n",
    "\n",
    "> NOTE: We could have a more \"realistic\" simple model by looking at words that _only_ occur in training spam (or conversely words that only occur in training ham)"
   ]
  },
  {
   "cell_type": "code",
   "execution_count": 9,
   "id": "ce439548",
   "metadata": {},
   "outputs": [],
   "source": [
    "# \n",
    "class SimpleModel(BaseEstimator, ClassifierMixin):\n",
    "    ''' Very simple model that checks provided `spam_words` to label as \"spam\".\n",
    "    Assumes that first class is \"ham\" and next class is \"spam\".\n",
    "    \n",
    "    Inspired by https://scikit-learn.org/stable/developers/develop.html#rolling-your-own-estimator\n",
    "    '''\n",
    "    \n",
    "    def __init__(self, spam_words=('free')):\n",
    "        self.spam_words = spam_words\n",
    "\n",
    "    def fit(self, X, y):\n",
    "        self.X_ = X\n",
    "        self.y_ = y\n",
    "        # Return the classifier\n",
    "        return self\n",
    "\n",
    "    def predict(self, X):\n",
    "        # Check is fit had been called\n",
    "        check_is_fitted(self)\n",
    "\n",
    "        # Spam if text contains any of the spam words\n",
    "        preds = [\n",
    "            1 if any(word in X for word in self.spam_words)\n",
    "            else 0\n",
    "                for X in X_train_clean\n",
    "        ]\n",
    "        return preds\n",
    "    "
   ]
  },
  {
   "cell_type": "code",
   "execution_count": 10,
   "id": "2f9f1262",
   "metadata": {},
   "outputs": [],
   "source": [
    "common_spam_words = (\n",
    "    'free',\n",
    "    'won',\n",
    "    'win', # variation of \"win\"\n",
    "    'money',\n",
    ")\n",
    "\n",
    "model = SimpleModel(spam_words=common_spam_words)"
   ]
  },
  {
   "cell_type": "code",
   "execution_count": 11,
   "id": "7947e7e6",
   "metadata": {},
   "outputs": [],
   "source": [
    "model.fit(X_train_clean.reshape(-1,1), y_train)\n",
    "y_pred = model.predict(X_train_clean.reshape(-1,1))"
   ]
  },
  {
   "cell_type": "markdown",
   "id": "cef9ba8d",
   "metadata": {},
   "source": [
    "## Validation (w/ Cross-Validation)"
   ]
  },
  {
   "cell_type": "markdown",
   "id": "70c05762",
   "metadata": {},
   "source": [
    "# Evaluate with Test"
   ]
  }
 ],
 "metadata": {
  "kernelspec": {
   "display_name": "Python 3 (ipykernel)",
   "language": "python",
   "name": "python3"
  },
  "language_info": {
   "codemirror_mode": {
    "name": "ipython",
    "version": 3
   },
   "file_extension": ".py",
   "mimetype": "text/x-python",
   "name": "python",
   "nbconvert_exporter": "python",
   "pygments_lexer": "ipython3",
   "version": "3.9.12"
  },
  "toc": {
   "base_numbering": 1,
   "nav_menu": {},
   "number_sections": false,
   "sideBar": true,
   "skip_h1_title": false,
   "title_cell": "Table of Contents",
   "title_sidebar": "Contents",
   "toc_cell": true,
   "toc_position": {},
   "toc_section_display": true,
   "toc_window_display": false
  }
 },
 "nbformat": 4,
 "nbformat_minor": 5
}
